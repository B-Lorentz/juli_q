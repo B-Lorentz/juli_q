{
 "cells": [
  {
   "cell_type": "markdown",
   "metadata": {},
   "source": [
    "$$0$$\n",
    "$$4\\ \\left|3,-1\\right\\rangle_2$$"
   ]
  },
  {
   "cell_type": "markdown",
   "metadata": {},
   "source": [
    "$$\\sqrt{6}\\ \\left|3,2\\right\\rangle_2 \\otimes \\left|1,0\\right\\rangle_3 + \\sqrt{2}\\ \\left|3,3\\right\\rangle_2 \\otimes \\left|1,-1\\right\\rangle_3$$\n",
    "\n"
   ]
  },
  {
   "cell_type": "code",
   "execution_count": 10,
   "metadata": {},
   "outputs": [],
   "source": [
    "from sympy import *\n",
    "from sympy.physics.quantum.spin import CG, uncouple, couple, JzKetCoupled, JzKet\n",
    "from sympy.physics.quantum import TensorProduct\n",
    "init_printing()"
   ]
  },
  {
   "cell_type": "code",
   "execution_count": 124,
   "metadata": {},
   "outputs": [
    {
     "data": {
      "image/png": "[encoded data removed]",
      "text/latex": [
       "$$\\frac{\\sqrt{15} {{\\left|1,-1\\right\\rangle }}\\otimes {{\\left|1,1\\right\\rangle }}\\otimes {{\\left|1,1\\right\\rangle }}}{30} + \\frac{\\sqrt{15} {{\\left|1,0\\right\\rangle }}\\otimes {{\\left|1,0\\right\\rangle }}\\otimes {{\\left|1,1\\right\\rangle }}}{15} - \\frac{\\sqrt{15} {{\\left|1,0\\right\\rangle }}\\otimes {{\\left|1,1\\right\\rangle }}\\otimes {{\\left|1,0\\right\\rangle }}}{10} + \\frac{\\sqrt{15} {{\\left|1,1\\right\\rangle }}\\otimes {{\\left|1,-1\\right\\rangle }}\\otimes {{\\left|1,1\\right\\rangle }}}{30} - \\frac{\\sqrt{15} {{\\left|1,1\\right\\rangle }}\\otimes {{\\left|1,0\\right\\rangle }}\\otimes {{\\left|1,0\\right\\rangle }}}{10} + \\frac{\\sqrt{15} {{\\left|1,1\\right\\rangle }}\\otimes {{\\left|1,1\\right\\rangle }}\\otimes {{\\left|1,-1\\right\\rangle }}}{5}$$"
      ],
      "text/plain": [
       "√15⋅❘1,-1⟩⨂ ❘1,1⟩⨂ ❘1,1⟩   √15⋅❘1,0⟩⨂ ❘1,0⟩⨂ ❘1,1⟩   √15⋅❘1,0⟩⨂ ❘1,1⟩⨂ ❘1,0⟩  \n",
       "──────────────────────── + ─────────────────────── - ─────────────────────── +\n",
       "           30                         15                        10            \n",
       "\n",
       " √15⋅❘1,1⟩⨂ ❘1,-1⟩⨂ ❘1,1⟩   √15⋅❘1,1⟩⨂ ❘1,0⟩⨂ ❘1,0⟩   √15⋅❘1,1⟩⨂ ❘1,1⟩⨂ ❘1,-1⟩\n",
       " ──────────────────────── - ─────────────────────── + ────────────────────────\n",
       "            30                         10                        5            "
      ]
     },
     "execution_count": 124,
     "metadata": {},
     "output_type": "execute_result"
    }
   ],
   "source": [
    "uncouple(JzKetCoupled(1, 1, (1, 1, 1)))"
   ]
  },
  {
   "cell_type": "code",
   "execution_count": 128,
   "metadata": {},
   "outputs": [
    {
     "data": {
      "image/png": "[encoded data removed]",
      "text/latex": [
       "$$0.387298334620742$$"
      ],
      "text/plain": [
       "0.387298334620742"
      ]
     },
     "execution_count": 128,
     "metadata": {},
     "output_type": "execute_result"
    }
   ],
   "source": [
    "(sqrt(15)/10).evalf()"
   ]
  },
  {
   "cell_type": "code",
   "execution_count": 58,
   "metadata": {},
   "outputs": [
    {
     "data": {
      "image/png": "[encoded data removed]",
      "text/latex": [
       "$$- \\frac{{\\left|1,1,j_{1}=1,j_{2}=1,j_{3}=1,j_{1,2}=1\\right\\rangle }}{2} - \\frac{\\sqrt{15} {\\left|1,1,j_{1}=1,j_{2}=1,j_{3}=1,j_{1,2}=2\\right\\rangle }}{10} - \\frac{{\\left|2,1,j_{1}=1,j_{2}=1,j_{3}=1,j_{1,2}=1\\right\\rangle }}{2} + \\frac{\\sqrt{3} {\\left|2,1,j_{1}=1,j_{2}=1,j_{3}=1,j_{1,2}=2\\right\\rangle }}{6} + \\frac{2 \\sqrt{15} {\\left|3,1,j_{1}=1,j_{2}=1,j_{3}=1,j_{1,2}=2\\right\\rangle }}{15}$$"
      ],
      "text/plain": [
       "  ❘1,1,j₁=1,j₂=1,j₃=1,j₁,₂=1⟩   √15⋅❘1,1,j₁=1,j₂=1,j₃=1,j₁,₂=2⟩   ❘2,1,j₁=1,j₂\n",
       "- ─────────────────────────── - ─────────────────────────────── - ────────────\n",
       "               2                               10                             \n",
       "\n",
       "=1,j₃=1,j₁,₂=1⟩   √3⋅❘2,1,j₁=1,j₂=1,j₃=1,j₁,₂=2⟩   2⋅√15⋅❘3,1,j₁=1,j₂=1,j₃=1,j\n",
       "─────────────── + ────────────────────────────── + ───────────────────────────\n",
       " 2                              6                                  15         \n",
       "\n",
       "₁,₂=2⟩\n",
       "──────\n",
       "      "
      ]
     },
     "execution_count": 58,
     "metadata": {},
     "output_type": "execute_result"
    }
   ],
   "source": [
    "couple(TensorProduct(JzKet(1,0), JzKet(1,1), JzKet(1,0)))"
   ]
  },
  {
   "cell_type": "code",
   "execution_count": 49,
   "metadata": {},
   "outputs": [
    {
     "data": {
      "image/png": "[encoded data removed]",
      "text/latex": [
       "$$-0.104530721947959$$"
      ],
      "text/plain": [
       "-0.104530721947959"
      ]
     },
     "execution_count": 49,
     "metadata": {},
     "output_type": "execute_result"
    }
   ],
   "source": [
    "((sqrt(21)/21) - (sqrt(15)/12)).evalf()# + (sqrt(105)/84))**2).evalf()"
   ]
  },
  {
   "cell_type": "code",
   "execution_count": 37,
   "metadata": {},
   "outputs": [
    {
     "data": {
      "image/png": "[encoded data removed]",
      "text/latex": [
       "$$0.349210415057406$$"
      ],
      "text/plain": [
       "0.349210415057406"
      ]
     },
     "execution_count": 37,
     "metadata": {},
     "output_type": "execute_result"
    }
   ],
   "source": [
    "(((sqrt(5)/4) - (sqrt(3)/4))**2 + (sqrt(3)/3)**2).evalf()"
   ]
  },
  {
   "cell_type": "code",
   "execution_count": 62,
   "metadata": {},
   "outputs": [
    {
     "data": {
      "image/png": "[encoded data removed]",
      "text/latex": [
       "$$0.774596669241483$$"
      ],
      "text/plain": [
       "0.774596669241483"
      ]
     },
     "execution_count": 62,
     "metadata": {},
     "output_type": "execute_result"
    }
   ],
   "source": [
    "(sqrt(15)/5).evalf()"
   ]
  },
  {
   "cell_type": "code",
   "execution_count": 108,
   "metadata": {},
   "outputs": [],
   "source": [
    "JMket = JzKet(1, 1)\n",
    "js = (1, 1, 1)\n",
    "summa = 0\n",
    "n = 0\n",
    "for i in range(-4,4):\n",
    "    for j in range(-4,4):\n",
    "        diff= uncouple(JMket, js, ((1,2,i), (1,3,j)))\n",
    "        summa += diff\n",
    "        if diff != 0:\n",
    "            n += 1\n",
    "summa = (summa/n).simplify()"
   ]
  },
  {
   "cell_type": "code",
   "execution_count": 109,
   "metadata": {},
   "outputs": [
    {
     "data": {
      "image/png": "[encoded data removed]",
      "text/latex": [
       "$$\\frac{5 \\sqrt{3} {{\\left|1,-1\\right\\rangle }}\\otimes {{\\left|1,1\\right\\rangle }}\\otimes {{\\left|1,1\\right\\rangle }} + 3 \\sqrt{15} {{\\left|1,-1\\right\\rangle }}\\otimes {{\\left|1,1\\right\\rangle }}\\otimes {{\\left|1,1\\right\\rangle }} - 20 \\sqrt{3} {{\\left|1,0\\right\\rangle }}\\otimes {{\\left|1,0\\right\\rangle }}\\otimes {{\\left|1,1\\right\\rangle }} + 6 \\sqrt{15} {{\\left|1,0\\right\\rangle }}\\otimes {{\\left|1,0\\right\\rangle }}\\otimes {{\\left|1,1\\right\\rangle }} - 30 {{\\left|1,0\\right\\rangle }}\\otimes {{\\left|1,1\\right\\rangle }}\\otimes {{\\left|1,0\\right\\rangle }} + \\sqrt{15} {{\\left|1,0\\right\\rangle }}\\otimes {{\\left|1,1\\right\\rangle }}\\otimes {{\\left|1,0\\right\\rangle }} + 5 \\sqrt{3} {{\\left|1,0\\right\\rangle }}\\otimes {{\\left|1,1\\right\\rangle }}\\otimes {{\\left|1,0\\right\\rangle }} + 5 \\sqrt{3} {{\\left|1,1\\right\\rangle }}\\otimes {{\\left|1,-1\\right\\rangle }}\\otimes {{\\left|1,1\\right\\rangle }} + 3 \\sqrt{15} {{\\left|1,1\\right\\rangle }}\\otimes {{\\left|1,-1\\right\\rangle }}\\otimes {{\\left|1,1\\right\\rangle }} + \\sqrt{15} {{\\left|1,1\\right\\rangle }}\\otimes {{\\left|1,0\\right\\rangle }}\\otimes {{\\left|1,0\\right\\rangle }} + 5 \\sqrt{3} {{\\left|1,1\\right\\rangle }}\\otimes {{\\left|1,0\\right\\rangle }}\\otimes {{\\left|1,0\\right\\rangle }} + 30 {{\\left|1,1\\right\\rangle }}\\otimes {{\\left|1,0\\right\\rangle }}\\otimes {{\\left|1,0\\right\\rangle }} + 10 \\sqrt{3} {{\\left|1,1\\right\\rangle }}\\otimes {{\\left|1,1\\right\\rangle }}\\otimes {{\\left|1,-1\\right\\rangle }} + 8 \\sqrt{15} {{\\left|1,1\\right\\rangle }}\\otimes {{\\left|1,1\\right\\rangle }}\\otimes {{\\left|1,-1\\right\\rangle }}}{180}$$"
      ],
      "text/plain": [
       "5⋅√3⋅❘1,-1⟩⨂ ❘1,1⟩⨂ ❘1,1⟩ + 3⋅√15⋅❘1,-1⟩⨂ ❘1,1⟩⨂ ❘1,1⟩ - 20⋅√3⋅❘1,0⟩⨂ ❘1,0⟩⨂ ❘\n",
       "──────────────────────────────────────────────────────────────────────────────\n",
       "                                                                              \n",
       "\n",
       "1,1⟩ + 6⋅√15⋅❘1,0⟩⨂ ❘1,0⟩⨂ ❘1,1⟩ - 30⋅❘1,0⟩⨂ ❘1,1⟩⨂ ❘1,0⟩ + √15⋅❘1,0⟩⨂ ❘1,1⟩⨂ \n",
       "──────────────────────────────────────────────────────────────────────────────\n",
       "                                                                              \n",
       "\n",
       "❘1,0⟩ + 5⋅√3⋅❘1,0⟩⨂ ❘1,1⟩⨂ ❘1,0⟩ + 5⋅√3⋅❘1,1⟩⨂ ❘1,-1⟩⨂ ❘1,1⟩ + 3⋅√15⋅❘1,1⟩⨂ ❘1\n",
       "──────────────────────────────────────────────────────────────────────────────\n",
       "                                 180                                          \n",
       "\n",
       ",-1⟩⨂ ❘1,1⟩ + √15⋅❘1,1⟩⨂ ❘1,0⟩⨂ ❘1,0⟩ + 5⋅√3⋅❘1,1⟩⨂ ❘1,0⟩⨂ ❘1,0⟩ + 30⋅❘1,1⟩⨂ ❘\n",
       "──────────────────────────────────────────────────────────────────────────────\n",
       "                                                                              \n",
       "\n",
       "1,0⟩⨂ ❘1,0⟩ + 10⋅√3⋅❘1,1⟩⨂ ❘1,1⟩⨂ ❘1,-1⟩ + 8⋅√15⋅❘1,1⟩⨂ ❘1,1⟩⨂ ❘1,-1⟩\n",
       "─────────────────────────────────────────────────────────────────────\n",
       "                                                                     "
      ]
     },
     "execution_count": 109,
     "metadata": {},
     "output_type": "execute_result"
    }
   ],
   "source": [
    "summa"
   ]
  },
  {
   "cell_type": "code",
   "execution_count": 110,
   "metadata": {},
   "outputs": [
    {
     "data": {
      "image/png": "[encoded data removed]",
      "text/latex": [
       "$$6$$"
      ],
      "text/plain": [
       "6"
      ]
     },
     "execution_count": 110,
     "metadata": {},
     "output_type": "execute_result"
    }
   ],
   "source": [
    "n"
   ]
  },
  {
   "cell_type": "code",
   "execution_count": 111,
   "metadata": {},
   "outputs": [
    {
     "data": {
      "image/png": "[encoded data removed]",
      "text/latex": [
       "$$0.112662244869259$$"
      ],
      "text/plain": [
       "0.112662244869259"
      ]
     },
     "execution_count": 111,
     "metadata": {},
     "output_type": "execute_result"
    }
   ],
   "source": [
    "((5*sqrt(3) + 3*sqrt(15))/180).evalf()"
   ]
  },
  {
   "cell_type": "code",
   "execution_count": 122,
   "metadata": {},
   "outputs": [
    {
     "data": {
      "image/png": "[encoded data removed]",
      "text/latex": [
       "$$0.577350269189626$$"
      ],
      "text/plain": [
       "0.577350269189626"
      ]
     },
     "execution_count": 122,
     "metadata": {},
     "output_type": "execute_result"
    }
   ],
   "source": [
    "(sqrt(3)/3).evalf()"
   ]
  },
  {
   "cell_type": "code",
   "execution_count": null,
   "metadata": {},
   "outputs": [],
   "source": []
  }
 ],
 "metadata": {
  "kernelspec": {
   "display_name": "Python 3",
   "language": "python",
   "name": "python3"
  },
  "language_info": {
   "codemirror_mode": {
    "name": "ipython",
    "version": 3
   },
   "file_extension": ".py",
   "mimetype": "text/x-python",
   "name": "python",
   "nbconvert_exporter": "python",
   "pygments_lexer": "ipython3",
   "version": "3.7.5"
  }
 },
 "nbformat": 4,
 "nbformat_minor": 2
}
