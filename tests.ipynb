{
 "cells": [
  {
   "cell_type": "markdown",
   "metadata": {},
   "source": [
    "$$0$$\n",
    "$$4\\ \\left|3,-1\\right\\rangle_2$$"
   ]
  },
  {
   "cell_type": "markdown",
   "metadata": {},
   "source": [
    "$$\\sqrt{6}\\ \\left|3,2\\right\\rangle_2 \\otimes \\left|1,0\\right\\rangle_3 + \\sqrt{2}\\ \\left|3,3\\right\\rangle_2 \\otimes \\left|1,-1\\right\\rangle_3$$\n",
    "\n"
   ]
  },
  {
   "cell_type": "code",
   "execution_count": 1,
   "metadata": {},
   "outputs": [],
   "source": [
    "from sympy import *\n",
    "from sympy.physics.quantum.spin import CG, uncouple, couple, JzKetCoupled, JzKet\n",
    "from sympy.physics.quantum import TensorProduct\n",
    "init_printing()"
   ]
  },
  {
   "cell_type": "code",
   "execution_count": 2,
   "metadata": {},
   "outputs": [
    {
     "data": {
      "image/png": "[encoded data removed]",
      "text/latex": [
       "$$\\frac{\\sqrt{15} {{\\left|1,-1\\right\\rangle }}\\otimes {{\\left|1,1\\right\\rangle }}\\otimes {{\\left|1,1\\right\\rangle }}}{30} + \\frac{\\sqrt{15} {{\\left|1,0\\right\\rangle }}\\otimes {{\\left|1,0\\right\\rangle }}\\otimes {{\\left|1,1\\right\\rangle }}}{15} - \\frac{\\sqrt{15} {{\\left|1,0\\right\\rangle }}\\otimes {{\\left|1,1\\right\\rangle }}\\otimes {{\\left|1,0\\right\\rangle }}}{10} + \\frac{\\sqrt{15} {{\\left|1,1\\right\\rangle }}\\otimes {{\\left|1,-1\\right\\rangle }}\\otimes {{\\left|1,1\\right\\rangle }}}{30} - \\frac{\\sqrt{15} {{\\left|1,1\\right\\rangle }}\\otimes {{\\left|1,0\\right\\rangle }}\\otimes {{\\left|1,0\\right\\rangle }}}{10} + \\frac{\\sqrt{15} {{\\left|1,1\\right\\rangle }}\\otimes {{\\left|1,1\\right\\rangle }}\\otimes {{\\left|1,-1\\right\\rangle }}}{5}$$"
      ],
      "text/plain": [
       "√15⋅❘1,-1⟩⨂ ❘1,1⟩⨂ ❘1,1⟩   √15⋅❘1,0⟩⨂ ❘1,0⟩⨂ ❘1,1⟩   √15⋅❘1,0⟩⨂ ❘1,1⟩⨂ ❘1,0⟩  \n",
       "──────────────────────── + ─────────────────────── - ─────────────────────── +\n",
       "           30                         15                        10            \n",
       "\n",
       " √15⋅❘1,1⟩⨂ ❘1,-1⟩⨂ ❘1,1⟩   √15⋅❘1,1⟩⨂ ❘1,0⟩⨂ ❘1,0⟩   √15⋅❘1,1⟩⨂ ❘1,1⟩⨂ ❘1,-1⟩\n",
       " ──────────────────────── - ─────────────────────── + ────────────────────────\n",
       "            30                         10                        5            "
      ]
     },
     "execution_count": 2,
     "metadata": {},
     "output_type": "execute_result"
    }
   ],
   "source": [
    "uncouple(JzKetCoupled(1, 1, (1, 1, 1), ((1, 2, 2), (1, 3, 1))))"
   ]
  },
  {
   "cell_type": "code",
   "execution_count": 3,
   "metadata": {},
   "outputs": [
    {
     "data": {
      "image/png": "[encoded data removed]",
      "text/latex": [
       "$$0.577350269189626$$"
      ],
      "text/plain": [
       "0.577350269189626"
      ]
     },
     "execution_count": 3,
     "metadata": {},
     "output_type": "execute_result"
    }
   ],
   "source": [
    "(sqrt(3)/3).evalf()"
   ]
  },
  {
   "cell_type": "code",
   "execution_count": 4,
   "metadata": {},
   "outputs": [
    {
     "data": {
      "image/png": "[encoded data removed]",
      "text/latex": [
       "$$- \\frac{{\\left|1,1,j_{1}=1,j_{2}=1,j_{3}=1,j_{1,2}=1\\right\\rangle }}{2} - \\frac{\\sqrt{15} {\\left|1,1,j_{1}=1,j_{2}=1,j_{3}=1,j_{1,2}=2\\right\\rangle }}{10} - \\frac{{\\left|2,1,j_{1}=1,j_{2}=1,j_{3}=1,j_{1,2}=1\\right\\rangle }}{2} + \\frac{\\sqrt{3} {\\left|2,1,j_{1}=1,j_{2}=1,j_{3}=1,j_{1,2}=2\\right\\rangle }}{6} + \\frac{2 \\sqrt{15} {\\left|3,1,j_{1}=1,j_{2}=1,j_{3}=1,j_{1,2}=2\\right\\rangle }}{15}$$"
      ],
      "text/plain": [
       "  ❘1,1,j₁=1,j₂=1,j₃=1,j₁,₂=1⟩   √15⋅❘1,1,j₁=1,j₂=1,j₃=1,j₁,₂=2⟩   ❘2,1,j₁=1,j₂\n",
       "- ─────────────────────────── - ─────────────────────────────── - ────────────\n",
       "               2                               10                             \n",
       "\n",
       "=1,j₃=1,j₁,₂=1⟩   √3⋅❘2,1,j₁=1,j₂=1,j₃=1,j₁,₂=2⟩   2⋅√15⋅❘3,1,j₁=1,j₂=1,j₃=1,j\n",
       "─────────────── + ────────────────────────────── + ───────────────────────────\n",
       " 2                              6                                  15         \n",
       "\n",
       "₁,₂=2⟩\n",
       "──────\n",
       "      "
      ]
     },
     "execution_count": 4,
     "metadata": {},
     "output_type": "execute_result"
    }
   ],
   "source": [
    "couple(TensorProduct(JzKet(1,0), JzKet(1,1), JzKet(1,0)))"
   ]
  },
  {
   "cell_type": "code",
   "execution_count": 5,
   "metadata": {},
   "outputs": [
    {
     "data": {
      "image/png": "[encoded data removed]",
      "text/latex": [
       "$$-0.104530721947959$$"
      ],
      "text/plain": [
       "-0.104530721947959"
      ]
     },
     "execution_count": 5,
     "metadata": {},
     "output_type": "execute_result"
    }
   ],
   "source": [
    "((sqrt(21)/21) - (sqrt(15)/12)).evalf()# + (sqrt(105)/84))**2).evalf()"
   ]
  },
  {
   "cell_type": "code",
   "execution_count": 6,
   "metadata": {},
   "outputs": [
    {
     "data": {
      "image/png": "[encoded data removed]",
      "text/latex": [
       "$$0.349210415057406$$"
      ],
      "text/plain": [
       "0.349210415057406"
      ]
     },
     "execution_count": 6,
     "metadata": {},
     "output_type": "execute_result"
    }
   ],
   "source": [
    "(((sqrt(5)/4) - (sqrt(3)/4))**2 + (sqrt(3)/3)**2).evalf()"
   ]
  },
  {
   "cell_type": "code",
   "execution_count": 7,
   "metadata": {},
   "outputs": [
    {
     "data": {
      "image/png": "[encoded data removed]",
      "text/latex": [
       "$$0.129099444873581$$"
      ],
      "text/plain": [
       "0.129099444873581"
      ]
     },
     "execution_count": 7,
     "metadata": {},
     "output_type": "execute_result"
    }
   ],
   "source": [
    "(sqrt(15)/30).evalf()"
   ]
  },
  {
   "cell_type": "code",
   "execution_count": 8,
   "metadata": {},
   "outputs": [],
   "source": [
    "JMket = JzKet(1, 1)\n",
    "js = (1, 1, 1)\n",
    "summa = 0\n",
    "n = 0\n",
    "for i in range(-4,4):\n",
    "    for j in range(-4,4):\n",
    "        diff= uncouple(JMket, js, ((1,2,i), (1,3,j)))\n",
    "        summa += diff\n",
    "        if diff != 0:\n",
    "            n += 1\n",
    "summa = (summa/n).simplify()"
   ]
  },
  {
   "cell_type": "code",
   "execution_count": 9,
   "metadata": {},
   "outputs": [
    {
     "data": {
      "image/png": "[encoded data removed]",
      "text/latex": [
       "$$\\frac{5 \\sqrt{3} {{\\left|1,-1\\right\\rangle }}\\otimes {{\\left|1,1\\right\\rangle }}\\otimes {{\\left|1,1\\right\\rangle }} + 3 \\sqrt{15} {{\\left|1,-1\\right\\rangle }}\\otimes {{\\left|1,1\\right\\rangle }}\\otimes {{\\left|1,1\\right\\rangle }} - 20 \\sqrt{3} {{\\left|1,0\\right\\rangle }}\\otimes {{\\left|1,0\\right\\rangle }}\\otimes {{\\left|1,1\\right\\rangle }} + 6 \\sqrt{15} {{\\left|1,0\\right\\rangle }}\\otimes {{\\left|1,0\\right\\rangle }}\\otimes {{\\left|1,1\\right\\rangle }} - 30 {{\\left|1,0\\right\\rangle }}\\otimes {{\\left|1,1\\right\\rangle }}\\otimes {{\\left|1,0\\right\\rangle }} + \\sqrt{15} {{\\left|1,0\\right\\rangle }}\\otimes {{\\left|1,1\\right\\rangle }}\\otimes {{\\left|1,0\\right\\rangle }} + 5 \\sqrt{3} {{\\left|1,0\\right\\rangle }}\\otimes {{\\left|1,1\\right\\rangle }}\\otimes {{\\left|1,0\\right\\rangle }} + 5 \\sqrt{3} {{\\left|1,1\\right\\rangle }}\\otimes {{\\left|1,-1\\right\\rangle }}\\otimes {{\\left|1,1\\right\\rangle }} + 3 \\sqrt{15} {{\\left|1,1\\right\\rangle }}\\otimes {{\\left|1,-1\\right\\rangle }}\\otimes {{\\left|1,1\\right\\rangle }} + \\sqrt{15} {{\\left|1,1\\right\\rangle }}\\otimes {{\\left|1,0\\right\\rangle }}\\otimes {{\\left|1,0\\right\\rangle }} + 5 \\sqrt{3} {{\\left|1,1\\right\\rangle }}\\otimes {{\\left|1,0\\right\\rangle }}\\otimes {{\\left|1,0\\right\\rangle }} + 30 {{\\left|1,1\\right\\rangle }}\\otimes {{\\left|1,0\\right\\rangle }}\\otimes {{\\left|1,0\\right\\rangle }} + 10 \\sqrt{3} {{\\left|1,1\\right\\rangle }}\\otimes {{\\left|1,1\\right\\rangle }}\\otimes {{\\left|1,-1\\right\\rangle }} + 8 \\sqrt{15} {{\\left|1,1\\right\\rangle }}\\otimes {{\\left|1,1\\right\\rangle }}\\otimes {{\\left|1,-1\\right\\rangle }}}{180}$$"
      ],
      "text/plain": [
       "5⋅√3⋅❘1,-1⟩⨂ ❘1,1⟩⨂ ❘1,1⟩ + 3⋅√15⋅❘1,-1⟩⨂ ❘1,1⟩⨂ ❘1,1⟩ - 20⋅√3⋅❘1,0⟩⨂ ❘1,0⟩⨂ ❘\n",
       "──────────────────────────────────────────────────────────────────────────────\n",
       "                                                                              \n",
       "\n",
       "1,1⟩ + 6⋅√15⋅❘1,0⟩⨂ ❘1,0⟩⨂ ❘1,1⟩ - 30⋅❘1,0⟩⨂ ❘1,1⟩⨂ ❘1,0⟩ + √15⋅❘1,0⟩⨂ ❘1,1⟩⨂ \n",
       "──────────────────────────────────────────────────────────────────────────────\n",
       "                                                                              \n",
       "\n",
       "❘1,0⟩ + 5⋅√3⋅❘1,0⟩⨂ ❘1,1⟩⨂ ❘1,0⟩ + 5⋅√3⋅❘1,1⟩⨂ ❘1,-1⟩⨂ ❘1,1⟩ + 3⋅√15⋅❘1,1⟩⨂ ❘1\n",
       "──────────────────────────────────────────────────────────────────────────────\n",
       "                                 180                                          \n",
       "\n",
       ",-1⟩⨂ ❘1,1⟩ + √15⋅❘1,1⟩⨂ ❘1,0⟩⨂ ❘1,0⟩ + 5⋅√3⋅❘1,1⟩⨂ ❘1,0⟩⨂ ❘1,0⟩ + 30⋅❘1,1⟩⨂ ❘\n",
       "──────────────────────────────────────────────────────────────────────────────\n",
       "                                                                              \n",
       "\n",
       "1,0⟩⨂ ❘1,0⟩ + 10⋅√3⋅❘1,1⟩⨂ ❘1,1⟩⨂ ❘1,-1⟩ + 8⋅√15⋅❘1,1⟩⨂ ❘1,1⟩⨂ ❘1,-1⟩\n",
       "─────────────────────────────────────────────────────────────────────\n",
       "                                                                     "
      ]
     },
     "execution_count": 9,
     "metadata": {},
     "output_type": "execute_result"
    }
   ],
   "source": [
    "summa"
   ]
  },
  {
   "cell_type": "code",
   "execution_count": 10,
   "metadata": {},
   "outputs": [
    {
     "data": {
      "image/png": "[encoded data removed]",
      "text/latex": [
       "$$6$$"
      ],
      "text/plain": [
       "6"
      ]
     },
     "execution_count": 10,
     "metadata": {},
     "output_type": "execute_result"
    }
   ],
   "source": [
    "n"
   ]
  },
  {
   "cell_type": "code",
   "execution_count": 11,
   "metadata": {},
   "outputs": [
    {
     "data": {
      "image/png": "[encoded data removed]",
      "text/latex": [
       "$$0.112662244869259$$"
      ],
      "text/plain": [
       "0.112662244869259"
      ]
     },
     "execution_count": 11,
     "metadata": {},
     "output_type": "execute_result"
    }
   ],
   "source": [
    "((5*sqrt(3) + 3*sqrt(15))/180).evalf()"
   ]
  },
  {
   "cell_type": "code",
   "execution_count": 12,
   "metadata": {},
   "outputs": [
    {
     "data": {
      "image/png": "[encoded data removed]",
      "text/latex": [
       "$$0.577350269189626$$"
      ],
      "text/plain": [
       "0.577350269189626"
      ]
     },
     "execution_count": 12,
     "metadata": {},
     "output_type": "execute_result"
    }
   ],
   "source": [
    "(sqrt(3)/3).evalf()"
   ]
  },
  {
   "cell_type": "code",
   "execution_count": 13,
   "metadata": {},
   "outputs": [
    {
     "data": {
      "image/png": "[encoded data removed]",
      "text/latex": [
       "$$0.408248290463863$$"
      ],
      "text/plain": [
       "0.408248290463863"
      ]
     },
     "execution_count": 13,
     "metadata": {},
     "output_type": "execute_result"
    }
   ],
   "source": [
    "CG(1, -1, 1, 1, 2, 0).doit().evalf()"
   ]
  },
  {
   "cell_type": "code",
   "execution_count": 37,
   "metadata": {},
   "outputs": [
    {
     "data": {
      "image/png": "[encoded data removed]",
      "text/latex": [
       "$$- \\frac{\\sqrt{15} {\\left|1,1,j_{1}=1,j_{2}=\\frac{3}{2},j_{3}=2,j_{4}=\\frac{1}{2},j_{1,2}=\\frac{1}{2},j_{1,2,3}=\\frac{3}{2}\\right\\rangle }}{30} - \\frac{2 \\sqrt{6} {\\left|1,1,j_{1}=1,j_{2}=\\frac{3}{2},j_{3}=2,j_{4}=\\frac{1}{2},j_{1,2}=\\frac{3}{2},j_{1,2,3}=\\frac{1}{2}\\right\\rangle }}{15} + \\frac{\\sqrt{6} {\\left|1,1,j_{1}=1,j_{2}=\\frac{3}{2},j_{3}=2,j_{4}=\\frac{1}{2},j_{1,2}=\\frac{3}{2},j_{1,2,3}=\\frac{3}{2}\\right\\rangle }}{15} + \\frac{\\sqrt{6} {\\left|1,1,j_{1}=1,j_{2}=\\frac{3}{2},j_{3}=2,j_{4}=\\frac{1}{2},j_{1,2}=\\frac{5}{2},j_{1,2,3}=\\frac{1}{2}\\right\\rangle }}{10} + \\frac{\\sqrt{21} {\\left|1,1,j_{1}=1,j_{2}=\\frac{3}{2},j_{3}=2,j_{4}=\\frac{1}{2},j_{1,2}=\\frac{5}{2},j_{1,2,3}=\\frac{3}{2}\\right\\rangle }}{70} + \\frac{\\sqrt{5} {\\left|2,1,j_{1}=1,j_{2}=\\frac{3}{2},j_{3}=2,j_{4}=\\frac{1}{2},j_{1,2}=\\frac{1}{2},j_{1,2,3}=\\frac{3}{2}\\right\\rangle }}{10} - \\frac{\\sqrt{30} {\\left|2,1,j_{1}=1,j_{2}=\\frac{3}{2},j_{3}=2,j_{4}=\\frac{1}{2},j_{1,2}=\\frac{1}{2},j_{1,2,3}=\\frac{5}{2}\\right\\rangle }}{30} - \\frac{\\sqrt{2} {\\left|2,1,j_{1}=1,j_{2}=\\frac{3}{2},j_{3}=2,j_{4}=\\frac{1}{2},j_{1,2}=\\frac{3}{2},j_{1,2,3}=\\frac{3}{2}\\right\\rangle }}{5} - \\frac{2 \\sqrt{42} {\\left|2,1,j_{1}=1,j_{2}=\\frac{3}{2},j_{3}=2,j_{4}=\\frac{1}{2},j_{1,2}=\\frac{3}{2},j_{1,2,3}=\\frac{5}{2}\\right\\rangle }}{105} - \\frac{3 \\sqrt{7} {\\left|2,1,j_{1}=1,j_{2}=\\frac{3}{2},j_{3}=2,j_{4}=\\frac{1}{2},j_{1,2}=\\frac{5}{2},j_{1,2,3}=\\frac{3}{2}\\right\\rangle }}{70} + \\frac{2 \\sqrt{7} {\\left|2,1,j_{1}=1,j_{2}=\\frac{3}{2},j_{3}=2,j_{4}=\\frac{1}{2},j_{1,2}=\\frac{5}{2},j_{1,2,3}=\\frac{5}{2}\\right\\rangle }}{35} + \\frac{\\sqrt{15} {\\left|3,1,j_{1}=1,j_{2}=\\frac{3}{2},j_{3}=2,j_{4}=\\frac{1}{2},j_{1,2}=\\frac{1}{2},j_{1,2,3}=\\frac{5}{2}\\right\\rangle }}{15} + \\frac{4 \\sqrt{21} {\\left|3,1,j_{1}=1,j_{2}=\\frac{3}{2},j_{3}=2,j_{4}=\\frac{1}{2},j_{1,2}=\\frac{3}{2},j_{1,2,3}=\\frac{5}{2}\\right\\rangle }}{105} - \\frac{3 \\sqrt{14} {\\left|3,1,j_{1}=1,j_{2}=\\frac{3}{2},j_{3}=2,j_{4}=\\frac{1}{2},j_{1,2}=\\frac{3}{2},j_{1,2,3}=\\frac{7}{2}\\right\\rangle }}{35} - \\frac{2 \\sqrt{14} {\\left|3,1,j_{1}=1,j_{2}=\\frac{3}{2},j_{3}=2,j_{4}=\\frac{1}{2},j_{1,2}=\\frac{5}{2},j_{1,2,3}=\\frac{5}{2}\\right\\rangle }}{35} - \\frac{\\sqrt{21} {\\left|3,1,j_{1}=1,j_{2}=\\frac{3}{2},j_{3}=2,j_{4}=\\frac{1}{2},j_{1,2}=\\frac{5}{2},j_{1,2,3}=\\frac{7}{2}\\right\\rangle }}{70} + \\frac{\\sqrt{210} {\\left|4,1,j_{1}=1,j_{2}=\\frac{3}{2},j_{3}=2,j_{4}=\\frac{1}{2},j_{1,2}=\\frac{3}{2},j_{1,2,3}=\\frac{7}{2}\\right\\rangle }}{35} + \\frac{\\sqrt{35} {\\left|4,1,j_{1}=1,j_{2}=\\frac{3}{2},j_{3}=2,j_{4}=\\frac{1}{2},j_{1,2}=\\frac{5}{2},j_{1,2,3}=\\frac{7}{2}\\right\\rangle }}{70} - \\frac{\\sqrt{70} {\\left|4,1,j_{1}=1,j_{2}=\\frac{3}{2},j_{3}=2,j_{4}=\\frac{1}{2},j_{1,2}=\\frac{5}{2},j_{1,2,3}=\\frac{9}{2}\\right\\rangle }}{35} + \\frac{\\sqrt{105} {\\left|5,1,j_{1}=1,j_{2}=\\frac{3}{2},j_{3}=2,j_{4}=\\frac{1}{2},j_{1,2}=\\frac{5}{2},j_{1,2,3}=\\frac{9}{2}\\right\\rangle }}{35}$$"
      ],
      "text/plain": [
       "  √15⋅❘1,1,j₁=1,j₂=3/2,j₃=2,j₄=1/2,j₁,₂=1/2,j₁,₂,₃=3/2⟩   2⋅√6⋅❘1,1,j₁=1,j₂=3/\n",
       "- ───────────────────────────────────────────────────── - ────────────────────\n",
       "                            30                                                \n",
       "\n",
       "2,j₃=2,j₄=1/2,j₁,₂=3/2,j₁,₂,₃=1/2⟩   √6⋅❘1,1,j₁=1,j₂=3/2,j₃=2,j₄=1/2,j₁,₂=3/2,\n",
       "────────────────────────────────── + ─────────────────────────────────────────\n",
       "      15                                                      15              \n",
       "\n",
       "j₁,₂,₃=3/2⟩   √6⋅❘1,1,j₁=1,j₂=3/2,j₃=2,j₄=1/2,j₁,₂=5/2,j₁,₂,₃=1/2⟩   √21⋅❘1,1,\n",
       "─────────── + ──────────────────────────────────────────────────── + ─────────\n",
       "                                       10                                     \n",
       "\n",
       "j₁=1,j₂=3/2,j₃=2,j₄=1/2,j₁,₂=5/2,j₁,₂,₃=3/2⟩   √5⋅❘2,1,j₁=1,j₂=3/2,j₃=2,j₄=1/2\n",
       "──────────────────────────────────────────── + ───────────────────────────────\n",
       "                 70                                                     10    \n",
       "\n",
       ",j₁,₂=1/2,j₁,₂,₃=3/2⟩   √30⋅❘2,1,j₁=1,j₂=3/2,j₃=2,j₄=1/2,j₁,₂=1/2,j₁,₂,₃=5/2⟩ \n",
       "───────────────────── - ───────────────────────────────────────────────────── \n",
       "                                                  30                          \n",
       "\n",
       "  √2⋅❘2,1,j₁=1,j₂=3/2,j₃=2,j₄=1/2,j₁,₂=3/2,j₁,₂,₃=3/2⟩   2⋅√42⋅❘2,1,j₁=1,j₂=3/\n",
       "- ──────────────────────────────────────────────────── - ─────────────────────\n",
       "                           5                                                  \n",
       "\n",
       "2,j₃=2,j₄=1/2,j₁,₂=3/2,j₁,₂,₃=5/2⟩   3⋅√7⋅❘2,1,j₁=1,j₂=3/2,j₃=2,j₄=1/2,j₁,₂=5/\n",
       "────────────────────────────────── - ─────────────────────────────────────────\n",
       "     105                                                       70             \n",
       "\n",
       "2,j₁,₂,₃=3/2⟩   2⋅√7⋅❘2,1,j₁=1,j₂=3/2,j₃=2,j₄=1/2,j₁,₂=5/2,j₁,₂,₃=5/2⟩   √15⋅❘\n",
       "───────────── + ────────────────────────────────────────────────────── + ─────\n",
       "                                          35                                  \n",
       "\n",
       "3,1,j₁=1,j₂=3/2,j₃=2,j₄=1/2,j₁,₂=1/2,j₁,₂,₃=5/2⟩   4⋅√21⋅❘3,1,j₁=1,j₂=3/2,j₃=2\n",
       "──────────────────────────────────────────────── + ───────────────────────────\n",
       "                     15                                                      1\n",
       "\n",
       ",j₄=1/2,j₁,₂=3/2,j₁,₂,₃=5/2⟩   3⋅√14⋅❘3,1,j₁=1,j₂=3/2,j₃=2,j₄=1/2,j₁,₂=3/2,j₁,\n",
       "──────────────────────────── - ───────────────────────────────────────────────\n",
       "05                                                        35                  \n",
       "\n",
       "₂,₃=7/2⟩   2⋅√14⋅❘3,1,j₁=1,j₂=3/2,j₃=2,j₄=1/2,j₁,₂=5/2,j₁,₂,₃=5/2⟩   √21⋅❘3,1,\n",
       "──────── - ─────────────────────────────────────────────────────── - ─────────\n",
       "                                      35                                      \n",
       "\n",
       "j₁=1,j₂=3/2,j₃=2,j₄=1/2,j₁,₂=5/2,j₁,₂,₃=7/2⟩   √210⋅❘4,1,j₁=1,j₂=3/2,j₃=2,j₄=1\n",
       "──────────────────────────────────────────── + ───────────────────────────────\n",
       "                 70                                                      35   \n",
       "\n",
       "/2,j₁,₂=3/2,j₁,₂,₃=7/2⟩   √35⋅❘4,1,j₁=1,j₂=3/2,j₃=2,j₄=1/2,j₁,₂=5/2,j₁,₂,₃=7/2\n",
       "─────────────────────── + ────────────────────────────────────────────────────\n",
       "                                                    70                        \n",
       "\n",
       "⟩   √70⋅❘4,1,j₁=1,j₂=3/2,j₃=2,j₄=1/2,j₁,₂=5/2,j₁,₂,₃=9/2⟩   √105⋅❘5,1,j₁=1,j₂=\n",
       "─ - ───────────────────────────────────────────────────── + ──────────────────\n",
       "                              35                                              \n",
       "\n",
       "3/2,j₃=2,j₄=1/2,j₁,₂=5/2,j₁,₂,₃=9/2⟩\n",
       "────────────────────────────────────\n",
       "        35                          "
      ]
     },
     "execution_count": 37,
     "metadata": {},
     "output_type": "execute_result"
    }
   ],
   "source": [
    "import sympy\n",
    "from sympy.physics.quantum import TensorProduct\n",
    "from sympy.physics.quantum.spin import JzKet, couple\n",
    "couple(TensorProduct(JzKet( S(1)/S(1) ,  S(1)/S(1) ), JzKet( S(3)/S(2) ,  S(-1)/S(2) ), JzKet( S(2)/S(1) ,  S(0)/S(1) ), JzKet( S(1)/S(2) ,  S(1)/S(2) ), ))"
   ]
  },
  {
   "cell_type": "markdown",
   "metadata": {},
   "source": [
    "$$ \\left|1,1\\right\\rangle_0 \\otimes \\left|\\frac{3}{2},\\frac{-1}{2}\\right\\rangle_1 \\otimes \\left|2,0\\right\\rangle_2 \\otimes \\left|\\frac{1}{2},\\frac{1}{2}\\right\\rangle_3 = -\\sqrt{\\frac{1}{60}} \\left| 1, 1, \\left[ j_{1...2} = \\frac{1}{2}, j_{1...3} = \\frac{3}{2},  \\right]\\right\\rangle\n",
    " + \\sqrt{\\frac{1}{20}} \\left| 2, 1, \\left[ j_{1...2} = \\frac{1}{2}, j_{1...3} = \\frac{3}{2},  \\right]\\right\\rangle\n",
    " + -\\sqrt{\\frac{1}{30}} \\left| 2, 1, \\left[ j_{1...2} = \\frac{1}{2}, j_{1...3} = \\frac{5}{2},  \\right]\\right\\rangle\n",
    " + \\sqrt{\\frac{1}{15}} \\left| 3, 1, \\left[ j_{1...2} = \\frac{1}{2}, j_{1...3} = \\frac{5}{2},  \\right]\\right\\rangle\n",
    " + -\\sqrt{\\frac{8}{75}} \\left| 1, 1, \\left[ j_{1...2} = \\frac{3}{2}, j_{1...3} = \\frac{1}{2},  \\right]\\right\\rangle\n",
    " + \\sqrt{\\frac{2}{75}} \\left| 1, 1, \\left[ j_{1...2} = \\frac{3}{2}, j_{1...3} = \\frac{3}{2},  \\right]\\right\\rangle\n",
    " + -\\sqrt{\\frac{2}{25}} \\left| 2, 1, \\left[ j_{1...2} = \\frac{3}{2}, j_{1...3} = \\frac{3}{2},  \\right]\\right\\rangle\n",
    " + -\\sqrt{\\frac{8}{525}} \\left| 2, 1, \\left[ j_{1...2} = \\frac{3}{2}, j_{1...3} = \\frac{5}{2},  \\right]\\right\\rangle\n",
    " + \\sqrt{\\frac{16}{525}} \\left| 3, 1, \\left[ j_{1...2} = \\frac{3}{2}, j_{1...3} = \\frac{5}{2},  \\right]\\right\\rangle\n",
    " + -\\sqrt{\\frac{18}{175}} \\left| 3, 1, \\left[ j_{1...2} = \\frac{3}{2}, j_{1...3} = \\frac{7}{2},  \\right]\\right\\rangle\n",
    " + \\sqrt{\\frac{6}{35}} \\left| 4, 1, \\left[ j_{1...2} = \\frac{3}{2}, j_{1...3} = \\frac{7}{2},  \\right]\\right\\rangle\n",
    " + \\sqrt{\\frac{3}{50}} \\left| 1, 1, \\left[ j_{1...2} = \\frac{5}{2}, j_{1...3} = \\frac{1}{2},  \\right]\\right\\rangle\n",
    " + \\sqrt{\\frac{3}{700}} \\left| 1, 1, \\left[ j_{1...2} = \\frac{5}{2}, j_{1...3} = \\frac{3}{2},  \\right]\\right\\rangle\n",
    " + -\\sqrt{\\frac{9}{700}} \\left| 2, 1, \\left[ j_{1...2} = \\frac{5}{2}, j_{1...3} = \\frac{3}{2},  \\right]\\right\\rangle\n",
    " + \\sqrt{\\frac{4}{175}} \\left| 2, 1, \\left[ j_{1...2} = \\frac{5}{2}, j_{1...3} = \\frac{5}{2},  \\right]\\right\\rangle\n",
    " + -\\sqrt{\\frac{8}{175}} \\left| 3, 1, \\left[ j_{1...2} = \\frac{5}{2}, j_{1...3} = \\frac{5}{2},  \\right]\\right\\rangle\n",
    " + -\\sqrt{\\frac{3}{700}} \\left| 3, 1, \\left[ j_{1...2} = \\frac{5}{2}, j_{1...3} = \\frac{7}{2},  \\right]\\right\\rangle\n",
    " + \\sqrt{\\frac{1}{140}} \\left| 4, 1, \\left[ j_{1...2} = \\frac{5}{2}, j_{1...3} = \\frac{7}{2},  \\right]\\right\\rangle\n",
    " + -\\sqrt{\\frac{2}{35}} \\left| 4, 1, \\left[ j_{1...2} = \\frac{5}{2}, j_{1...3} = \\frac{9}{2},  \\right]\\right\\rangle\n",
    " + \\sqrt{\\frac{3}{35}} \\left| 5, 1, \\left[ j_{1...2} = \\frac{5}{2}, j_{1...3} = \\frac{9}{2},  \\right]\\right\\rangle\n",
    "$$"
   ]
  },
  {
   "cell_type": "code",
   "execution_count": 41,
   "metadata": {},
   "outputs": [
    {
     "data": {
      "image/png": "[encoded data removed]",
      "text/latex": [
       "$$0$$"
      ],
      "text/plain": [
       "0"
      ]
     },
     "execution_count": 41,
     "metadata": {},
     "output_type": "execute_result"
    }
   ],
   "source": [
    "(-sqrt(15)/30 + sqrt(S(1)/60)).simplify()"
   ]
  },
  {
   "cell_type": "markdown",
   "metadata": {},
   "source": [
    "$$ \\left|2,2\\right\\rangle_4 =  + 1\\left( \\left|\\frac{1}{2},\\frac{1}{2}\\right\\rangle_0 \\otimes \\left|\\frac{1}{2},\\frac{1}{2}\\right\\rangle_1 \\otimes \\left|1,1\\right\\rangle_2 \\right)_{\\left[ j_{1...2} = 1,  \\right]}\n",
    "$$"
   ]
  },
  {
   "cell_type": "markdown",
   "metadata": {},
   "source": [
    "$$ \\left|4,2\\right\\rangle_5 =  + -\\sqrt{\\frac{1}{112}}\\left( \\left|\\frac{3}{2},\\frac{-3}{2}\\right\\rangle_0 \\otimes \\left|\\frac{1}{2},\\frac{1}{2}\\right\\rangle_1 \\otimes \\left|1,1\\right\\rangle_2 \\otimes \\left|2,2\\right\\rangle_3 \\right)_{\\left[ j_{1...2} = 1, j_{1...3} = 2,  \\right]}\n",
    " + -\\sqrt{\\frac{1}{112}}\\left( \\left|\\frac{3}{2},\\frac{-3}{2}\\right\\rangle_0 \\otimes \\left|\\frac{1}{2},\\frac{1}{2}\\right\\rangle_1 \\otimes \\left|1,1\\right\\rangle_2 \\otimes \\left|2,2\\right\\rangle_3 \\right)_{\\left[ j_{1...2} = 2, j_{1...3} = 2,  \\right]}\n",
    " + -\\sqrt{\\frac{1}{140}}\\left( \\left|\\frac{3}{2},\\frac{-3}{2}\\right\\rangle_0 \\otimes \\left|\\frac{1}{2},\\frac{1}{2}\\right\\rangle_1 \\otimes \\left|1,1\\right\\rangle_2 \\otimes \\left|2,2\\right\\rangle_3 \\right)_{\\left[ j_{1...2} = 2, j_{1...3} = 3,  \\right]}\n",
    " + \\sqrt{\\frac{1}{336}}\\left( \\left|\\frac{3}{2},\\frac{-1}{2}\\right\\rangle_0 \\otimes \\left|\\frac{1}{2},\\frac{-1}{2}\\right\\rangle_1 \\otimes \\left|1,1\\right\\rangle_2 \\otimes \\left|2,2\\right\\rangle_3 \\right)_{\\left[ j_{1...2} = 1, j_{1...3} = 2,  \\right]}\n",
    " + -\\sqrt{\\frac{3}{112}}\\left( \\left|\\frac{3}{2},\\frac{-1}{2}\\right\\rangle_0 \\otimes \\left|\\frac{1}{2},\\frac{-1}{2}\\right\\rangle_1 \\otimes \\left|1,1\\right\\rangle_2 \\otimes \\left|2,2\\right\\rangle_3 \\right)_{\\left[ j_{1...2} = 2, j_{1...3} = 2,  \\right]}\n",
    " + -\\sqrt{\\frac{3}{140}}\\left( \\left|\\frac{3}{2},\\frac{-1}{2}\\right\\rangle_0 \\otimes \\left|\\frac{1}{2},\\frac{-1}{2}\\right\\rangle_1 \\otimes \\left|1,1\\right\\rangle_2 \\otimes \\left|2,2\\right\\rangle_3 \\right)_{\\left[ j_{1...2} = 2, j_{1...3} = 3,  \\right]}\n",
    " + -\\sqrt{\\frac{1}{42}}\\left( \\left|\\frac{3}{2},\\frac{-1}{2}\\right\\rangle_0 \\otimes \\left|\\frac{1}{2},\\frac{1}{2}\\right\\rangle_1 \\otimes \\left|1,0\\right\\rangle_2 \\otimes \\left|2,2\\right\\rangle_3 \\right)_{\\left[ j_{1...2} = 1, j_{1...3} = 2,  \\right]}\n",
    " + 0\\left( \\left|\\frac{3}{2},\\frac{-1}{2}\\right\\rangle_0 \\otimes \\left|\\frac{1}{2},\\frac{1}{2}\\right\\rangle_1 \\otimes \\left|1,0\\right\\rangle_2 \\otimes \\left|2,2\\right\\rangle_3 \\right)_{\\left[ j_{1...2} = 2, j_{1...3} = 2,  \\right]}\n",
    " + -\\sqrt{\\frac{3}{70}}\\left( \\left|\\frac{3}{2},\\frac{-1}{2}\\right\\rangle_0 \\otimes \\left|\\frac{1}{2},\\frac{1}{2}\\right\\rangle_1 \\otimes \\left|1,0\\right\\rangle_2 \\otimes \\left|2,2\\right\\rangle_3 \\right)_{\\left[ j_{1...2} = 2, j_{1...3} = 3,  \\right]}\n",
    " + -\\sqrt{\\frac{1}{21}}\\left( \\left|\\frac{3}{2},\\frac{-1}{2}\\right\\rangle_0 \\otimes \\left|\\frac{1}{2},\\frac{1}{2}\\right\\rangle_1 \\otimes \\left|1,1\\right\\rangle_2 \\otimes \\left|2,1\\right\\rangle_3 \\right)_{\\left[ j_{1...2} = 1, j_{1...3} = 2,  \\right]}\n",
    " + -\\sqrt{\\frac{1}{21}}\\left( \\left|\\frac{3}{2},\\frac{-1}{2}\\right\\rangle_0 \\otimes \\left|\\frac{1}{2},\\frac{1}{2}\\right\\rangle_1 \\otimes \\left|1,1\\right\\rangle_2 \\otimes \\left|2,1\\right\\rangle_3 \\right)_{\\left[ j_{1...2} = 2, j_{1...3} = 2,  \\right]}\n",
    " + -\\sqrt{\\frac{1}{420}}\\left( \\left|\\frac{3}{2},\\frac{-1}{2}\\right\\rangle_0 \\otimes \\left|\\frac{1}{2},\\frac{1}{2}\\right\\rangle_1 \\otimes \\left|1,1\\right\\rangle_2 \\otimes \\left|2,1\\right\\rangle_3 \\right)_{\\left[ j_{1...2} = 2, j_{1...3} = 3,  \\right]}\n",
    " + \\sqrt{\\frac{1}{42}}\\left( \\left|\\frac{3}{2},\\frac{1}{2}\\right\\rangle_0 \\otimes \\left|\\frac{1}{2},\\frac{-1}{2}\\right\\rangle_1 \\otimes \\left|1,0\\right\\rangle_2 \\otimes \\left|2,2\\right\\rangle_3 \\right)_{\\left[ j_{1...2} = 1, j_{1...3} = 2,  \\right]}\n",
    " + 0\\left( \\left|\\frac{3}{2},\\frac{1}{2}\\right\\rangle_0 \\otimes \\left|\\frac{1}{2},\\frac{-1}{2}\\right\\rangle_1 \\otimes \\left|1,0\\right\\rangle_2 \\otimes \\left|2,2\\right\\rangle_3 \\right)_{\\left[ j_{1...2} = 2, j_{1...3} = 2,  \\right]}\n",
    " + -\\sqrt{\\frac{3}{70}}\\left( \\left|\\frac{3}{2},\\frac{1}{2}\\right\\rangle_0 \\otimes \\left|\\frac{1}{2},\\frac{-1}{2}\\right\\rangle_1 \\otimes \\left|1,0\\right\\rangle_2 \\otimes \\left|2,2\\right\\rangle_3 \\right)_{\\left[ j_{1...2} = 2, j_{1...3} = 3,  \\right]}\n",
    " + \\sqrt{\\frac{1}{21}}\\left( \\left|\\frac{3}{2},\\frac{1}{2}\\right\\rangle_0 \\otimes \\left|\\frac{1}{2},\\frac{-1}{2}\\right\\rangle_1 \\otimes \\left|1,1\\right\\rangle_2 \\otimes \\left|2,1\\right\\rangle_3 \\right)_{\\left[ j_{1...2} = 1, j_{1...3} = 2,  \\right]}\n",
    " + -\\sqrt{\\frac{1}{21}}\\left( \\left|\\frac{3}{2},\\frac{1}{2}\\right\\rangle_0 \\otimes \\left|\\frac{1}{2},\\frac{-1}{2}\\right\\rangle_1 \\otimes \\left|1,1\\right\\rangle_2 \\otimes \\left|2,1\\right\\rangle_3 \\right)_{\\left[ j_{1...2} = 2, j_{1...3} = 2,  \\right]}\n",
    " + -\\sqrt{\\frac{1}{420}}\\left( \\left|\\frac{3}{2},\\frac{1}{2}\\right\\rangle_0 \\otimes \\left|\\frac{1}{2},\\frac{-1}{2}\\right\\rangle_1 \\otimes \\left|1,1\\right\\rangle_2 \\otimes \\left|2,1\\right\\rangle_3 \\right)_{\\left[ j_{1...2} = 2, j_{1...3} = 3,  \\right]}\n",
    " + -\\sqrt{\\frac{1}{336}}\\left( \\left|\\frac{3}{2},\\frac{1}{2}\\right\\rangle_0 \\otimes \\left|\\frac{1}{2},\\frac{1}{2}\\right\\rangle_1 \\otimes \\left|1,-1\\right\\rangle_2 \\otimes \\left|2,2\\right\\rangle_3 \\right)_{\\left[ j_{1...2} = 1, j_{1...3} = 2,  \\right]}\n",
    " + \\sqrt{\\frac{3}{112}}\\left( \\left|\\frac{3}{2},\\frac{1}{2}\\right\\rangle_0 \\otimes \\left|\\frac{1}{2},\\frac{1}{2}\\right\\rangle_1 \\otimes \\left|1,-1\\right\\rangle_2 \\otimes \\left|2,2\\right\\rangle_3 \\right)_{\\left[ j_{1...2} = 2, j_{1...3} = 2,  \\right]}\n",
    " + -\\sqrt{\\frac{3}{140}}\\left( \\left|\\frac{3}{2},\\frac{1}{2}\\right\\rangle_0 \\otimes \\left|\\frac{1}{2},\\frac{1}{2}\\right\\rangle_1 \\otimes \\left|1,-1\\right\\rangle_2 \\otimes \\left|2,2\\right\\rangle_3 \\right)_{\\left[ j_{1...2} = 2, j_{1...3} = 3,  \\right]}\n",
    " + -\\sqrt{\\frac{1}{42}}\\left( \\left|\\frac{3}{2},\\frac{1}{2}\\right\\rangle_0 \\otimes \\left|\\frac{1}{2},\\frac{1}{2}\\right\\rangle_1 \\otimes \\left|1,0\\right\\rangle_2 \\otimes \\left|2,1\\right\\rangle_3 \\right)_{\\left[ j_{1...2} = 1, j_{1...3} = 2,  \\right]}\n",
    " + \\sqrt{\\frac{1}{42}}\\left( \\left|\\frac{3}{2},\\frac{1}{2}\\right\\rangle_0 \\otimes \\left|\\frac{1}{2},\\frac{1}{2}\\right\\rangle_1 \\otimes \\left|1,0\\right\\rangle_2 \\otimes \\left|2,1\\right\\rangle_3 \\right)_{\\left[ j_{1...2} = 2, j_{1...3} = 2,  \\right]}\n",
    " + -\\sqrt{\\frac{1}{210}}\\left( \\left|\\frac{3}{2},\\frac{1}{2}\\right\\rangle_0 \\otimes \\left|\\frac{1}{2},\\frac{1}{2}\\right\\rangle_1 \\otimes \\left|1,0\\right\\rangle_2 \\otimes \\left|2,1\\right\\rangle_3 \\right)_{\\left[ j_{1...2} = 2, j_{1...3} = 3,  \\right]}\n",
    " + -\\sqrt{\\frac{1}{56}}\\left( \\left|\\frac{3}{2},\\frac{1}{2}\\right\\rangle_0 \\otimes \\left|\\frac{1}{2},\\frac{1}{2}\\right\\rangle_1 \\otimes \\left|1,1\\right\\rangle_2 \\otimes \\left|2,0\\right\\rangle_3 \\right)_{\\left[ j_{1...2} = 1, j_{1...3} = 2,  \\right]}\n",
    " + -\\sqrt{\\frac{1}{56}}\\left( \\left|\\frac{3}{2},\\frac{1}{2}\\right\\rangle_0 \\otimes \\left|\\frac{1}{2},\\frac{1}{2}\\right\\rangle_1 \\otimes \\left|1,1\\right\\rangle_2 \\otimes \\left|2,0\\right\\rangle_3 \\right)_{\\left[ j_{1...2} = 2, j_{1...3} = 2,  \\right]}\n",
    " + \\sqrt{\\frac{2}{35}}\\left( \\left|\\frac{3}{2},\\frac{1}{2}\\right\\rangle_0 \\otimes \\left|\\frac{1}{2},\\frac{1}{2}\\right\\rangle_1 \\otimes \\left|1,1\\right\\rangle_2 \\otimes \\left|2,0\\right\\rangle_3 \\right)_{\\left[ j_{1...2} = 2, j_{1...3} = 3,  \\right]}\n",
    " + \\sqrt{\\frac{1}{112}}\\left( \\left|\\frac{3}{2},\\frac{3}{2}\\right\\rangle_0 \\otimes \\left|\\frac{1}{2},\\frac{-1}{2}\\right\\rangle_1 \\otimes \\left|1,-1\\right\\rangle_2 \\otimes \\left|2,2\\right\\rangle_3 \\right)_{\\left[ j_{1...2} = 1, j_{1...3} = 2,  \\right]}\n",
    " + \\sqrt{\\frac{1}{112}}\\left( \\left|\\frac{3}{2},\\frac{3}{2}\\right\\rangle_0 \\otimes \\left|\\frac{1}{2},\\frac{-1}{2}\\right\\rangle_1 \\otimes \\left|1,-1\\right\\rangle_2 \\otimes \\left|2,2\\right\\rangle_3 \\right)_{\\left[ j_{1...2} = 2, j_{1...3} = 2,  \\right]}\n",
    " + -\\sqrt{\\frac{1}{140}}\\left( \\left|\\frac{3}{2},\\frac{3}{2}\\right\\rangle_0 \\otimes \\left|\\frac{1}{2},\\frac{-1}{2}\\right\\rangle_1 \\otimes \\left|1,-1\\right\\rangle_2 \\otimes \\left|2,2\\right\\rangle_3 \\right)_{\\left[ j_{1...2} = 2, j_{1...3} = 3,  \\right]}\n",
    " + \\sqrt{\\frac{1}{14}}\\left( \\left|\\frac{3}{2},\\frac{3}{2}\\right\\rangle_0 \\otimes \\left|\\frac{1}{2},\\frac{-1}{2}\\right\\rangle_1 \\otimes \\left|1,0\\right\\rangle_2 \\otimes \\left|2,1\\right\\rangle_3 \\right)_{\\left[ j_{1...2} = 1, j_{1...3} = 2,  \\right]}\n",
    " + \\sqrt{\\frac{1}{126}}\\left( \\left|\\frac{3}{2},\\frac{3}{2}\\right\\rangle_0 \\otimes \\left|\\frac{1}{2},\\frac{-1}{2}\\right\\rangle_1 \\otimes \\left|1,0\\right\\rangle_2 \\otimes \\left|2,1\\right\\rangle_3 \\right)_{\\left[ j_{1...2} = 2, j_{1...3} = 2,  \\right]}\n",
    " + -\\sqrt{\\frac{1}{630}}\\left( \\left|\\frac{3}{2},\\frac{3}{2}\\right\\rangle_0 \\otimes \\left|\\frac{1}{2},\\frac{-1}{2}\\right\\rangle_1 \\otimes \\left|1,0\\right\\rangle_2 \\otimes \\left|2,1\\right\\rangle_3 \\right)_{\\left[ j_{1...2} = 2, j_{1...3} = 3,  \\right]}\n",
    " + \\sqrt{\\frac{3}{56}}\\left( \\left|\\frac{3}{2},\\frac{3}{2}\\right\\rangle_0 \\otimes \\left|\\frac{1}{2},\\frac{-1}{2}\\right\\rangle_1 \\otimes \\left|1,1\\right\\rangle_2 \\otimes \\left|2,0\\right\\rangle_3 \\right)_{\\left[ j_{1...2} = 1, j_{1...3} = 2,  \\right]}\n",
    " + -\\sqrt{\\frac{1}{168}}\\left( \\left|\\frac{3}{2},\\frac{3}{2}\\right\\rangle_0 \\otimes \\left|\\frac{1}{2},\\frac{-1}{2}\\right\\rangle_1 \\otimes \\left|1,1\\right\\rangle_2 \\otimes \\left|2,0\\right\\rangle_3 \\right)_{\\left[ j_{1...2} = 2, j_{1...3} = 2,  \\right]}\n",
    " + \\sqrt{\\frac{2}{105}}\\left( \\left|\\frac{3}{2},\\frac{3}{2}\\right\\rangle_0 \\otimes \\left|\\frac{1}{2},\\frac{-1}{2}\\right\\rangle_1 \\otimes \\left|1,1\\right\\rangle_2 \\otimes \\left|2,0\\right\\rangle_3 \\right)_{\\left[ j_{1...2} = 2, j_{1...3} = 3,  \\right]}\n",
    " + \\sqrt{\\frac{4}{63}}\\left( \\left|\\frac{3}{2},\\frac{3}{2}\\right\\rangle_0 \\otimes \\left|\\frac{1}{2},\\frac{1}{2}\\right\\rangle_1 \\otimes \\left|1,-1\\right\\rangle_2 \\otimes \\left|2,1\\right\\rangle_3 \\right)_{\\left[ j_{1...2} = 2, j_{1...3} = 2,  \\right]}\n",
    " + -\\sqrt{\\frac{1}{1260}}\\left( \\left|\\frac{3}{2},\\frac{3}{2}\\right\\rangle_0 \\otimes \\left|\\frac{1}{2},\\frac{1}{2}\\right\\rangle_1 \\otimes \\left|1,-1\\right\\rangle_2 \\otimes \\left|2,1\\right\\rangle_3 \\right)_{\\left[ j_{1...2} = 2, j_{1...3} = 3,  \\right]}\n",
    " + \\sqrt{\\frac{1}{21}}\\left( \\left|\\frac{3}{2},\\frac{3}{2}\\right\\rangle_0 \\otimes \\left|\\frac{1}{2},\\frac{1}{2}\\right\\rangle_1 \\otimes \\left|1,0\\right\\rangle_2 \\otimes \\left|2,0\\right\\rangle_3 \\right)_{\\left[ j_{1...2} = 2, j_{1...3} = 2,  \\right]}\n",
    " + \\sqrt{\\frac{4}{105}}\\left( \\left|\\frac{3}{2},\\frac{3}{2}\\right\\rangle_0 \\otimes \\left|\\frac{1}{2},\\frac{1}{2}\\right\\rangle_1 \\otimes \\left|1,0\\right\\rangle_2 \\otimes \\left|2,0\\right\\rangle_3 \\right)_{\\left[ j_{1...2} = 2, j_{1...3} = 3,  \\right]}\n",
    " + \\sqrt{\\frac{9}{140}}\\left( \\left|\\frac{3}{2},\\frac{3}{2}\\right\\rangle_0 \\otimes \\left|\\frac{1}{2},\\frac{1}{2}\\right\\rangle_1 \\otimes \\left|1,1\\right\\rangle_2 \\otimes \\left|2,-1\\right\\rangle_3 \\right)_{\\left[ j_{1...2} = 2, j_{1...3} = 3,  \\right]}\n",
    "$$\n"
   ]
  },
  {
   "cell_type": "code",
   "execution_count": null,
   "metadata": {},
   "outputs": [],
   "source": []
  }
 ],
 "metadata": {
  "kernelspec": {
   "display_name": "Python 3",
   "language": "python",
   "name": "python3"
  },
  "language_info": {
   "codemirror_mode": {
    "name": "ipython",
    "version": 3
   },
   "file_extension": ".py",
   "mimetype": "text/x-python",
   "name": "python",
   "nbconvert_exporter": "python",
   "pygments_lexer": "ipython3",
   "version": "3.7.5"
  }
 },
 "nbformat": 4,
 "nbformat_minor": 2
}
