{
 "cells": [
  {
   "cell_type": "markdown",
   "metadata": {},
   "source": [
    "$$0$$\n",
    "$$4\\ \\left|3,-1\\right\\rangle_2$$"
   ]
  },
  {
   "cell_type": "markdown",
   "metadata": {},
   "source": [
    "$$\\sqrt{6}\\ \\left|3,2\\right\\rangle_2 \\otimes \\left|1,0\\right\\rangle_3 + \\sqrt{2}\\ \\left|3,3\\right\\rangle_2 \\otimes \\left|1,-1\\right\\rangle_3$$\n",
    "\n"
   ]
  },
  {
   "cell_type": "code",
   "execution_count": null,
   "metadata": {},
   "outputs": [],
   "source": [
    "from sympy import *\n",
    "from sympy.physics.quantum.spin import CG, uncouple, couple, JzKetCoupled, JzKet\n",
    "from sympy.physics.quantum import TensorProduct\n",
    "init_printing()"
   ]
  },
  {
   "cell_type": "code",
   "execution_count": null,
   "metadata": {},
   "outputs": [],
   "source": [
    "uncouple(JzKetCoupled(1, 1, (1, 1, 1), ((1, 2, 2), (1, 3, 1))))"
   ]
  },
  {
   "cell_type": "code",
   "execution_count": null,
   "metadata": {},
   "outputs": [],
   "source": [
    "(sqrt(3)/3).evalf()"
   ]
  },
  {
   "cell_type": "code",
   "execution_count": null,
   "metadata": {},
   "outputs": [],
   "source": [
    "couple(TensorProduct(JzKet(1,0), JzKet(1,1), JzKet(1,0)))"
   ]
  },
  {
   "cell_type": "code",
   "execution_count": null,
   "metadata": {},
   "outputs": [],
   "source": [
    "((sqrt(21)/21) - (sqrt(15)/12)).evalf()# + (sqrt(105)/84))**2).evalf()"
   ]
  },
  {
   "cell_type": "code",
   "execution_count": null,
   "metadata": {},
   "outputs": [],
   "source": [
    "(((sqrt(5)/4) - (sqrt(3)/4))**2 + (sqrt(3)/3)**2).evalf()"
   ]
  },
  {
   "cell_type": "code",
   "execution_count": null,
   "metadata": {},
   "outputs": [],
   "source": [
    "(sqrt(15)/30).evalf()"
   ]
  },
  {
   "cell_type": "code",
   "execution_count": null,
   "metadata": {},
   "outputs": [],
   "source": [
    "JMket = JzKet(1, 1)\n",
    "js = (1, 1, 1)\n",
    "summa = 0\n",
    "n = 0\n",
    "for i in range(-4,4):\n",
    "    for j in range(-4,4):\n",
    "        diff= uncouple(JMket, js, ((1,2,i), (1,3,j)))\n",
    "        summa += diff\n",
    "        if diff != 0:\n",
    "            n += 1\n",
    "summa = (summa/n).simplify()"
   ]
  },
  {
   "cell_type": "code",
   "execution_count": null,
   "metadata": {},
   "outputs": [],
   "source": [
    "summa"
   ]
  },
  {
   "cell_type": "code",
   "execution_count": null,
   "metadata": {},
   "outputs": [],
   "source": [
    "n"
   ]
  },
  {
   "cell_type": "code",
   "execution_count": null,
   "metadata": {},
   "outputs": [],
   "source": [
    "((5*sqrt(3) + 3*sqrt(15))/180).evalf()"
   ]
  },
  {
   "cell_type": "code",
   "execution_count": null,
   "metadata": {},
   "outputs": [],
   "source": [
    "(sqrt(3)/3).evalf()"
   ]
  },
  {
   "cell_type": "code",
   "execution_count": null,
   "metadata": {},
   "outputs": [],
   "source": [
    "CG(1, -1, 1, 1, 2, 0).doit().evalf()"
   ]
  },
  {
   "cell_type": "markdown",
   "metadata": {},
   "source": [
    "$$ \\left[\\left|1,1\\right\\rangle_2 = 0\\right] \\ ha \\ (J_{12} =2 )$$\n",
    "$$ \\left[\\left|1,1\\right\\rangle_2 = \\frac{-1}{2}\\ \\left|\\frac{1}{2},\\frac{-1}{2}\\right\\rangle_0 \\otimes \\left|\\frac{1}{2},\\frac{1}{2}\\right\\rangle_1 \\otimes \\left|1,1\\right\\rangle_2 + \\frac{-1}{2}\\ \\left|\\frac{1}{2},\\frac{1}{2}\\right\\rangle_0 \\otimes \\left|\\frac{1}{2},\\frac{-1}{2}\\right\\rangle_1 \\otimes \\left|1,1\\right\\rangle_2 + \\sqrt{\\frac{1}{2}}\\ \\left|\\frac{1}{2},\\frac{1}{2}\\right\\rangle_0 \\otimes \\left|\\frac{1}{2},\\frac{1}{2}\\right\\rangle_1 \\otimes \\left|1,0\\right\\rangle_2\\right] \\ ha \\ (J_{12} =1 )$$\n",
    "$$ \\left[\\left|1,1\\right\\rangle_2 = -\\sqrt{\\frac{1}{2}}\\ \\left|\\frac{1}{2},\\frac{-1}{2}\\right\\rangle_0 \\otimes \\left|\\frac{1}{2},\\frac{1}{2}\\right\\rangle_1 \\otimes \\left|1,1\\right\\rangle_2 + \\sqrt{\\frac{1}{2}}\\ \\left|\\frac{1}{2},\\frac{1}{2}\\right\\rangle_0 \\otimes \\left|\\frac{1}{2},\\frac{-1}{2}\\right\\rangle_1 \\otimes \\left|1,1\\right\\rangle_2\\right] \\ ha \\ (J_{12} =0 )$$\n"
   ]
  },
  {
   "cell_type": "code",
   "execution_count": null,
   "metadata": {},
   "outputs": [],
   "source": []
  }
 ],
 "metadata": {
  "kernelspec": {
   "display_name": "Python 3",
   "language": "python",
   "name": "python3"
  },
  "language_info": {
   "codemirror_mode": {
    "name": "ipython",
    "version": 3
   },
   "file_extension": ".py",
   "mimetype": "text/x-python",
   "name": "python",
   "nbconvert_exporter": "python",
   "pygments_lexer": "ipython3",
   "version": "3.7.5"
  }
 },
 "nbformat": 4,
 "nbformat_minor": 2
}
